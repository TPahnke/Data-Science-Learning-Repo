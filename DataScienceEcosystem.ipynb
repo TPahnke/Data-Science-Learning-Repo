{
 "cells": [
  {
   "cell_type": "markdown",
   "id": "8a204466-0b72-456a-b9ce-aae08a531adf",
   "metadata": {},
   "source": [
    "# H1: DataScicenceEcosystem\n",
    "\n",
    "\n"
   ]
  },
  {
   "cell_type": "markdown",
   "id": "4257c792-a458-48b6-9a9d-3b6ef32ce596",
   "metadata": {
    "tags": []
   },
   "source": [
    "In this notebook, Data Science Tools and Ecosystem are summarized."
   ]
  },
  {
   "cell_type": "markdown",
   "id": "7457efb8-931a-4399-ac43-a9090dcd0ce1",
   "metadata": {},
   "source": [
    "*Objectives:*\n",
    "* Data Science Languages\n",
    "* Data Science Libraries\n",
    "* Data Science Tools\n",
    "* Arithmetic expressions\n",
    "* Convertion minutes into hours"
   ]
  },
  {
   "cell_type": "markdown",
   "id": "0cbd85a7-969a-404b-8bb5-b8bb142d528e",
   "metadata": {},
   "source": [
    "Some of the popular languages that Data Scientists use are:\n",
    "1. Python\n",
    "2. R\n",
    "3. SQL\n",
    "4. Julia\n",
    "5. Scala"
   ]
  },
  {
   "cell_type": "markdown",
   "id": "e960026c-768d-4ff2-9596-e9bf1d6efecd",
   "metadata": {
    "tags": []
   },
   "source": [
    "Some of the commonly used libraries used by Data Scientists include:\n",
    "\n",
    "1. NumPy\n",
    "2. TenserFlow\n",
    "3. Pandas\n",
    "4. SciPy\n",
    "5. Keras"
   ]
  },
  {
   "cell_type": "markdown",
   "id": "a382a51a-2db2-4760-ab67-58cff887af32",
   "metadata": {},
   "source": [
    "| Data Science Tools | | |\n",
    "| ------ | ------ | ------ | \n",
    "| R Studio | Apache Spark | Tenser Flow |"
   ]
  },
  {
   "cell_type": "markdown",
   "id": "94b09dcd-e6c2-4169-bb2c-2092af89ab70",
   "metadata": {},
   "source": [
    "# H3: Below are a few examples of evaluating arithmetic expressions in Python\n",
    "\n"
   ]
  },
  {
   "cell_type": "code",
   "execution_count": 7,
   "id": "112b8366-33a1-4aa1-8b3c-f7ff76906e32",
   "metadata": {
    "tags": []
   },
   "outputs": [
    {
     "data": {
      "text/plain": [
       "17"
      ]
     },
     "execution_count": 7,
     "metadata": {},
     "output_type": "execute_result"
    }
   ],
   "source": [
    "#This a simple arithmetic expression to mutiply then add integers\n",
    "(3*4)+5"
   ]
  },
  {
   "cell_type": "code",
   "execution_count": 8,
   "id": "8ee05b08-a801-4aac-a18b-be101ba17109",
   "metadata": {
    "tags": []
   },
   "outputs": [
    {
     "name": "stdout",
     "output_type": "stream",
     "text": [
      "3.3333333333333335\n"
     ]
    }
   ],
   "source": [
    "#This will convert 200 minutes to hours by diving by 60\n",
    "\n",
    "minutes = 200\n",
    "hours = 200 / 60\n",
    "print(hours)"
   ]
  },
  {
   "cell_type": "markdown",
   "id": "69cb099b-5eca-4b28-9bde-eb0796945bd8",
   "metadata": {},
   "source": [
    "# H2: Author\n",
    "Tim Pahnke"
   ]
  },
  {
   "cell_type": "code",
   "execution_count": null,
   "id": "c808a6dd-8377-427d-8e40-839fab51b716",
   "metadata": {},
   "outputs": [],
   "source": []
  }
 ],
 "metadata": {
  "kernelspec": {
   "display_name": "Python",
   "language": "python",
   "name": "conda-env-python-py"
  },
  "language_info": {
   "codemirror_mode": {
    "name": "ipython",
    "version": 3
   },
   "file_extension": ".py",
   "mimetype": "text/x-python",
   "name": "python",
   "nbconvert_exporter": "python",
   "pygments_lexer": "ipython3",
   "version": "3.7.12"
  }
 },
 "nbformat": 4,
 "nbformat_minor": 5
}
